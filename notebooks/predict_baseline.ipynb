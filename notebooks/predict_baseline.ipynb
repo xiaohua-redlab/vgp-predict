{
 "cells": [
  {
   "cell_type": "code",
   "execution_count": 14,
   "id": "43cab488-24d6-4b0c-b29a-65b5eb0330a7",
   "metadata": {
    "tags": []
   },
   "outputs": [],
   "source": [
    "import psycopg2\n",
    "import pandas as pd\n",
    "import numpy as np\n",
    "import matplotlib.pyplot as plt\n",
    "import datetime\n",
    "import seaborn as sns"
   ]
  },
  {
   "cell_type": "markdown",
   "id": "7d22dfef-91ab-418b-8d04-69a4575daec5",
   "metadata": {},
   "source": [
    "# e.g. City_id = 1, using selected data"
   ]
  },
  {
   "cell_type": "code",
   "execution_count": 68,
   "id": "77cdf786-947d-4c07-9f5e-d2200405e456",
   "metadata": {},
   "outputs": [
    {
     "data": {
      "text/html": [
       "<div>\n",
       "<style scoped>\n",
       "    .dataframe tbody tr th:only-of-type {\n",
       "        vertical-align: middle;\n",
       "    }\n",
       "\n",
       "    .dataframe tbody tr th {\n",
       "        vertical-align: top;\n",
       "    }\n",
       "\n",
       "    .dataframe thead th {\n",
       "        text-align: right;\n",
       "    }\n",
       "</style>\n",
       "<table border=\"1\" class=\"dataframe\">\n",
       "  <thead>\n",
       "    <tr style=\"text-align: right;\">\n",
       "      <th></th>\n",
       "      <th>date_event</th>\n",
       "      <th>type</th>\n",
       "      <th>value</th>\n",
       "      <th>city_id</th>\n",
       "      <th>timestamp</th>\n",
       "      <th>date</th>\n",
       "      <th>time</th>\n",
       "      <th>weekday</th>\n",
       "      <th>tdelta</th>\n",
       "      <th>tdelta_min</th>\n",
       "    </tr>\n",
       "  </thead>\n",
       "  <tbody>\n",
       "    <tr>\n",
       "      <th>0</th>\n",
       "      <td>2023-07-04 22:12:39</td>\n",
       "      <td>0</td>\n",
       "      <td>0.105000</td>\n",
       "      <td>1</td>\n",
       "      <td>2023-07-04 22:12:39</td>\n",
       "      <td>2023-07-04</td>\n",
       "      <td>22:12:39</td>\n",
       "      <td>2</td>\n",
       "      <td>0 days 00:00:02</td>\n",
       "      <td>0.033333</td>\n",
       "    </tr>\n",
       "    <tr>\n",
       "      <th>1</th>\n",
       "      <td>2023-07-10 12:25:05</td>\n",
       "      <td>0</td>\n",
       "      <td>0.020354</td>\n",
       "      <td>1</td>\n",
       "      <td>2023-07-10 12:25:05</td>\n",
       "      <td>2023-07-10</td>\n",
       "      <td>12:25:05</td>\n",
       "      <td>1</td>\n",
       "      <td>0 days 05:47:00</td>\n",
       "      <td>347.000000</td>\n",
       "    </tr>\n",
       "    <tr>\n",
       "      <th>2</th>\n",
       "      <td>2023-07-10 15:17:35</td>\n",
       "      <td>0</td>\n",
       "      <td>0.105000</td>\n",
       "      <td>1</td>\n",
       "      <td>2023-07-10 15:17:35</td>\n",
       "      <td>2023-07-10</td>\n",
       "      <td>15:17:35</td>\n",
       "      <td>1</td>\n",
       "      <td>0 days 02:52:30</td>\n",
       "      <td>172.500000</td>\n",
       "    </tr>\n",
       "  </tbody>\n",
       "</table>\n",
       "</div>"
      ],
      "text/plain": [
       "            date_event  type     value  city_id            timestamp  \\\n",
       "0  2023-07-04 22:12:39     0  0.105000        1  2023-07-04 22:12:39   \n",
       "1  2023-07-10 12:25:05     0  0.020354        1  2023-07-10 12:25:05   \n",
       "2  2023-07-10 15:17:35     0  0.105000        1  2023-07-10 15:17:35   \n",
       "\n",
       "         date      time  weekday           tdelta  tdelta_min  \n",
       "0  2023-07-04  22:12:39        2  0 days 00:00:02    0.033333  \n",
       "1  2023-07-10  12:25:05        1  0 days 05:47:00  347.000000  \n",
       "2  2023-07-10  15:17:35        1  0 days 02:52:30  172.500000  "
      ]
     },
     "execution_count": 68,
     "metadata": {},
     "output_type": "execute_result"
    }
   ],
   "source": [
    "import pandas as pd\n",
    "selected_df = pd.read_csv(\"filtered_data_city1.csv\", sep='\\t', header=0)\n",
    "selected_df = selected_df[selected_df[\"city_id\"]==1]\n",
    "selected_df.head(3)"
   ]
  },
  {
   "cell_type": "code",
   "execution_count": 70,
   "id": "647955ca-77f4-43dd-98fc-ed6600593ead",
   "metadata": {
    "tags": []
   },
   "outputs": [],
   "source": [
    "selected_df['unix_ts'] = pd.to_datetime(selected_df.timestamp).apply(lambda x: int(x.timestamp())).astype(int)\n",
    "\n",
    "### datetime from 2023/7/11\n",
    "selected_df = selected_df[selected_df['unix_ts']>=1689082398].reset_index(drop=True)\n",
    "selected_df['hour_index'] = selected_df['unix_ts']//3600\n",
    "selected_df['hour_index'] = selected_df['hour_index'] - selected_df['hour_index'].min()\n",
    "# print(selected_df.head(3))\n",
    "\n",
    "df = selected_df[['hour_index', 'value']]\n",
    "# df['day'] = ((df.hour_index - 11) // 24 + 2) % 7 + 1 \n",
    "# hard coded for knowing which day is the day according to initial hour_index\n",
    "df = df.groupby(['hour_index']).mean().reset_index()"
   ]
  },
  {
   "cell_type": "code",
   "execution_count": 67,
   "id": "c7d93698-68f6-4948-962b-d0254925939a",
   "metadata": {
    "tags": []
   },
   "outputs": [
    {
     "data": {
      "text/html": [
       "<div>\n",
       "<style scoped>\n",
       "    .dataframe tbody tr th:only-of-type {\n",
       "        vertical-align: middle;\n",
       "    }\n",
       "\n",
       "    .dataframe tbody tr th {\n",
       "        vertical-align: top;\n",
       "    }\n",
       "\n",
       "    .dataframe thead th {\n",
       "        text-align: right;\n",
       "    }\n",
       "</style>\n",
       "<table border=\"1\" class=\"dataframe\">\n",
       "  <thead>\n",
       "    <tr style=\"text-align: right;\">\n",
       "      <th></th>\n",
       "      <th>hour_index</th>\n",
       "      <th>weekday</th>\n",
       "      <th>value</th>\n",
       "    </tr>\n",
       "  </thead>\n",
       "  <tbody>\n",
       "    <tr>\n",
       "      <th>0</th>\n",
       "      <td>0</td>\n",
       "      <td>2.0</td>\n",
       "      <td>0.187787</td>\n",
       "    </tr>\n",
       "    <tr>\n",
       "      <th>1</th>\n",
       "      <td>1</td>\n",
       "      <td>2.0</td>\n",
       "      <td>0.404619</td>\n",
       "    </tr>\n",
       "    <tr>\n",
       "      <th>2</th>\n",
       "      <td>2</td>\n",
       "      <td>2.0</td>\n",
       "      <td>0.441498</td>\n",
       "    </tr>\n",
       "    <tr>\n",
       "      <th>3</th>\n",
       "      <td>3</td>\n",
       "      <td>2.0</td>\n",
       "      <td>0.724283</td>\n",
       "    </tr>\n",
       "    <tr>\n",
       "      <th>4</th>\n",
       "      <td>4</td>\n",
       "      <td>2.0</td>\n",
       "      <td>0.193599</td>\n",
       "    </tr>\n",
       "    <tr>\n",
       "      <th>...</th>\n",
       "      <td>...</td>\n",
       "      <td>...</td>\n",
       "      <td>...</td>\n",
       "    </tr>\n",
       "    <tr>\n",
       "      <th>266</th>\n",
       "      <td>347</td>\n",
       "      <td>3.0</td>\n",
       "      <td>0.218163</td>\n",
       "    </tr>\n",
       "    <tr>\n",
       "      <th>267</th>\n",
       "      <td>348</td>\n",
       "      <td>3.0</td>\n",
       "      <td>0.558570</td>\n",
       "    </tr>\n",
       "    <tr>\n",
       "      <th>268</th>\n",
       "      <td>352</td>\n",
       "      <td>3.0</td>\n",
       "      <td>0.262792</td>\n",
       "    </tr>\n",
       "    <tr>\n",
       "      <th>269</th>\n",
       "      <td>353</td>\n",
       "      <td>3.0</td>\n",
       "      <td>0.315643</td>\n",
       "    </tr>\n",
       "    <tr>\n",
       "      <th>270</th>\n",
       "      <td>354</td>\n",
       "      <td>3.0</td>\n",
       "      <td>0.393880</td>\n",
       "    </tr>\n",
       "  </tbody>\n",
       "</table>\n",
       "<p>271 rows × 3 columns</p>\n",
       "</div>"
      ],
      "text/plain": [
       "     hour_index  weekday     value\n",
       "0             0      2.0  0.187787\n",
       "1             1      2.0  0.404619\n",
       "2             2      2.0  0.441498\n",
       "3             3      2.0  0.724283\n",
       "4             4      2.0  0.193599\n",
       "..          ...      ...       ...\n",
       "266         347      3.0  0.218163\n",
       "267         348      3.0  0.558570\n",
       "268         352      3.0  0.262792\n",
       "269         353      3.0  0.315643\n",
       "270         354      3.0  0.393880\n",
       "\n",
       "[271 rows x 3 columns]"
      ]
     },
     "execution_count": 67,
     "metadata": {},
     "output_type": "execute_result"
    }
   ],
   "source": [
    "df"
   ]
  },
  {
   "cell_type": "code",
   "execution_count": 151,
   "id": "97f391f4-2eaf-4d4f-80f5-d39387bfb991",
   "metadata": {
    "tags": []
   },
   "outputs": [
    {
     "data": {
      "text/html": [
       "<div>\n",
       "<style scoped>\n",
       "    .dataframe tbody tr th:only-of-type {\n",
       "        vertical-align: middle;\n",
       "    }\n",
       "\n",
       "    .dataframe tbody tr th {\n",
       "        vertical-align: top;\n",
       "    }\n",
       "\n",
       "    .dataframe thead th {\n",
       "        text-align: right;\n",
       "    }\n",
       "</style>\n",
       "<table border=\"1\" class=\"dataframe\">\n",
       "  <thead>\n",
       "    <tr style=\"text-align: right;\">\n",
       "      <th></th>\n",
       "      <th>hour_index</th>\n",
       "      <th>mean_value</th>\n",
       "      <th>day</th>\n",
       "    </tr>\n",
       "  </thead>\n",
       "  <tbody>\n",
       "    <tr>\n",
       "      <th>0</th>\n",
       "      <td>0</td>\n",
       "      <td>0.187787</td>\n",
       "      <td>2</td>\n",
       "    </tr>\n",
       "    <tr>\n",
       "      <th>1</th>\n",
       "      <td>1</td>\n",
       "      <td>0.404619</td>\n",
       "      <td>2</td>\n",
       "    </tr>\n",
       "    <tr>\n",
       "      <th>2</th>\n",
       "      <td>2</td>\n",
       "      <td>0.441498</td>\n",
       "      <td>2</td>\n",
       "    </tr>\n",
       "    <tr>\n",
       "      <th>3</th>\n",
       "      <td>3</td>\n",
       "      <td>0.724283</td>\n",
       "      <td>2</td>\n",
       "    </tr>\n",
       "    <tr>\n",
       "      <th>4</th>\n",
       "      <td>4</td>\n",
       "      <td>0.193599</td>\n",
       "      <td>2</td>\n",
       "    </tr>\n",
       "    <tr>\n",
       "      <th>...</th>\n",
       "      <td>...</td>\n",
       "      <td>...</td>\n",
       "      <td>...</td>\n",
       "    </tr>\n",
       "    <tr>\n",
       "      <th>349</th>\n",
       "      <td>349</td>\n",
       "      <td>0.000000</td>\n",
       "      <td>3</td>\n",
       "    </tr>\n",
       "    <tr>\n",
       "      <th>350</th>\n",
       "      <td>350</td>\n",
       "      <td>0.000000</td>\n",
       "      <td>3</td>\n",
       "    </tr>\n",
       "    <tr>\n",
       "      <th>351</th>\n",
       "      <td>351</td>\n",
       "      <td>0.000000</td>\n",
       "      <td>3</td>\n",
       "    </tr>\n",
       "    <tr>\n",
       "      <th>352</th>\n",
       "      <td>352</td>\n",
       "      <td>0.262792</td>\n",
       "      <td>3</td>\n",
       "    </tr>\n",
       "    <tr>\n",
       "      <th>353</th>\n",
       "      <td>353</td>\n",
       "      <td>0.315643</td>\n",
       "      <td>3</td>\n",
       "    </tr>\n",
       "  </tbody>\n",
       "</table>\n",
       "<p>354 rows × 3 columns</p>\n",
       "</div>"
      ],
      "text/plain": [
       "     hour_index  mean_value  day\n",
       "0             0    0.187787    2\n",
       "1             1    0.404619    2\n",
       "2             2    0.441498    2\n",
       "3             3    0.724283    2\n",
       "4             4    0.193599    2\n",
       "..          ...         ...  ...\n",
       "349         349    0.000000    3\n",
       "350         350    0.000000    3\n",
       "351         351    0.000000    3\n",
       "352         352    0.262792    3\n",
       "353         353    0.315643    3\n",
       "\n",
       "[354 rows x 3 columns]"
      ]
     },
     "execution_count": 151,
     "metadata": {},
     "output_type": "execute_result"
    }
   ],
   "source": [
    "pad_df = []\n",
    "for h in  np.arange(0, df.hour_index.max()): # possible hour index\n",
    "    matching_row = df[df['hour_index'] == h]\n",
    "    v = matching_row['value'].values[0] if not matching_row.empty else 0\n",
    "    day = ((h - 11) // 24 + 2) % 7 + 1 # calculate what day with hard coded formular according to initial hour\n",
    "    pad_df.append([h, v, day]) # hour and value\n",
    "\n",
    "pad_df = pd.DataFrame(pad_df, columns = ['hour_index', 'mean_value', 'day'])\n",
    "pad_df"
   ]
  },
  {
   "cell_type": "code",
   "execution_count": 110,
   "id": "31c9f5a8-2055-4089-ab43-300a1b743eea",
   "metadata": {
    "tags": []
   },
   "outputs": [
    {
     "data": {
      "text/html": [
       "<div>\n",
       "<style scoped>\n",
       "    .dataframe tbody tr th:only-of-type {\n",
       "        vertical-align: middle;\n",
       "    }\n",
       "\n",
       "    .dataframe tbody tr th {\n",
       "        vertical-align: top;\n",
       "    }\n",
       "\n",
       "    .dataframe thead th {\n",
       "        text-align: right;\n",
       "    }\n",
       "</style>\n",
       "<table border=\"1\" class=\"dataframe\">\n",
       "  <thead>\n",
       "    <tr style=\"text-align: right;\">\n",
       "      <th></th>\n",
       "      <th>index</th>\n",
       "      <th>hour_index</th>\n",
       "      <th>mean_value</th>\n",
       "      <th>value_shift_1</th>\n",
       "      <th>value_shift_2</th>\n",
       "      <th>value_shift_3</th>\n",
       "      <th>value_shift_4</th>\n",
       "      <th>value_shift_5</th>\n",
       "      <th>value_shift_6</th>\n",
       "      <th>value_shift_7</th>\n",
       "      <th>...</th>\n",
       "      <th>value_shift_22</th>\n",
       "      <th>value_shift_23</th>\n",
       "      <th>value_shift_24</th>\n",
       "      <th>day_1</th>\n",
       "      <th>day_2</th>\n",
       "      <th>day_3</th>\n",
       "      <th>day_4</th>\n",
       "      <th>day_5</th>\n",
       "      <th>day_6</th>\n",
       "      <th>day_7</th>\n",
       "    </tr>\n",
       "  </thead>\n",
       "  <tbody>\n",
       "    <tr>\n",
       "      <th>0</th>\n",
       "      <td>24</td>\n",
       "      <td>24</td>\n",
       "      <td>0.365277</td>\n",
       "      <td>0.295500</td>\n",
       "      <td>0.333460</td>\n",
       "      <td>0.314829</td>\n",
       "      <td>0.402290</td>\n",
       "      <td>0.389791</td>\n",
       "      <td>0.330464</td>\n",
       "      <td>0.330314</td>\n",
       "      <td>...</td>\n",
       "      <td>0.441498</td>\n",
       "      <td>0.404619</td>\n",
       "      <td>0.187787</td>\n",
       "      <td>0</td>\n",
       "      <td>0</td>\n",
       "      <td>1</td>\n",
       "      <td>0</td>\n",
       "      <td>0</td>\n",
       "      <td>0</td>\n",
       "      <td>0</td>\n",
       "    </tr>\n",
       "    <tr>\n",
       "      <th>1</th>\n",
       "      <td>25</td>\n",
       "      <td>25</td>\n",
       "      <td>0.391379</td>\n",
       "      <td>0.365277</td>\n",
       "      <td>0.295500</td>\n",
       "      <td>0.333460</td>\n",
       "      <td>0.314829</td>\n",
       "      <td>0.402290</td>\n",
       "      <td>0.389791</td>\n",
       "      <td>0.330464</td>\n",
       "      <td>...</td>\n",
       "      <td>0.724283</td>\n",
       "      <td>0.441498</td>\n",
       "      <td>0.404619</td>\n",
       "      <td>0</td>\n",
       "      <td>0</td>\n",
       "      <td>1</td>\n",
       "      <td>0</td>\n",
       "      <td>0</td>\n",
       "      <td>0</td>\n",
       "      <td>0</td>\n",
       "    </tr>\n",
       "    <tr>\n",
       "      <th>2</th>\n",
       "      <td>26</td>\n",
       "      <td>26</td>\n",
       "      <td>0.440046</td>\n",
       "      <td>0.391379</td>\n",
       "      <td>0.365277</td>\n",
       "      <td>0.295500</td>\n",
       "      <td>0.333460</td>\n",
       "      <td>0.314829</td>\n",
       "      <td>0.402290</td>\n",
       "      <td>0.389791</td>\n",
       "      <td>...</td>\n",
       "      <td>0.193599</td>\n",
       "      <td>0.724283</td>\n",
       "      <td>0.441498</td>\n",
       "      <td>0</td>\n",
       "      <td>0</td>\n",
       "      <td>1</td>\n",
       "      <td>0</td>\n",
       "      <td>0</td>\n",
       "      <td>0</td>\n",
       "      <td>0</td>\n",
       "    </tr>\n",
       "    <tr>\n",
       "      <th>3</th>\n",
       "      <td>27</td>\n",
       "      <td>27</td>\n",
       "      <td>0.362597</td>\n",
       "      <td>0.440046</td>\n",
       "      <td>0.391379</td>\n",
       "      <td>0.365277</td>\n",
       "      <td>0.295500</td>\n",
       "      <td>0.333460</td>\n",
       "      <td>0.314829</td>\n",
       "      <td>0.402290</td>\n",
       "      <td>...</td>\n",
       "      <td>0.154464</td>\n",
       "      <td>0.193599</td>\n",
       "      <td>0.724283</td>\n",
       "      <td>0</td>\n",
       "      <td>0</td>\n",
       "      <td>1</td>\n",
       "      <td>0</td>\n",
       "      <td>0</td>\n",
       "      <td>0</td>\n",
       "      <td>0</td>\n",
       "    </tr>\n",
       "    <tr>\n",
       "      <th>4</th>\n",
       "      <td>28</td>\n",
       "      <td>28</td>\n",
       "      <td>0.243996</td>\n",
       "      <td>0.362597</td>\n",
       "      <td>0.440046</td>\n",
       "      <td>0.391379</td>\n",
       "      <td>0.365277</td>\n",
       "      <td>0.295500</td>\n",
       "      <td>0.333460</td>\n",
       "      <td>0.314829</td>\n",
       "      <td>...</td>\n",
       "      <td>0.214764</td>\n",
       "      <td>0.154464</td>\n",
       "      <td>0.193599</td>\n",
       "      <td>0</td>\n",
       "      <td>0</td>\n",
       "      <td>1</td>\n",
       "      <td>0</td>\n",
       "      <td>0</td>\n",
       "      <td>0</td>\n",
       "      <td>0</td>\n",
       "    </tr>\n",
       "    <tr>\n",
       "      <th>...</th>\n",
       "      <td>...</td>\n",
       "      <td>...</td>\n",
       "      <td>...</td>\n",
       "      <td>...</td>\n",
       "      <td>...</td>\n",
       "      <td>...</td>\n",
       "      <td>...</td>\n",
       "      <td>...</td>\n",
       "      <td>...</td>\n",
       "      <td>...</td>\n",
       "      <td>...</td>\n",
       "      <td>...</td>\n",
       "      <td>...</td>\n",
       "      <td>...</td>\n",
       "      <td>...</td>\n",
       "      <td>...</td>\n",
       "      <td>...</td>\n",
       "      <td>...</td>\n",
       "      <td>...</td>\n",
       "      <td>...</td>\n",
       "      <td>...</td>\n",
       "    </tr>\n",
       "    <tr>\n",
       "      <th>325</th>\n",
       "      <td>349</td>\n",
       "      <td>349</td>\n",
       "      <td>0.000000</td>\n",
       "      <td>0.558570</td>\n",
       "      <td>0.218163</td>\n",
       "      <td>0.428380</td>\n",
       "      <td>0.177547</td>\n",
       "      <td>0.212264</td>\n",
       "      <td>0.266966</td>\n",
       "      <td>0.244087</td>\n",
       "      <td>...</td>\n",
       "      <td>0.000000</td>\n",
       "      <td>0.000000</td>\n",
       "      <td>0.396077</td>\n",
       "      <td>0</td>\n",
       "      <td>0</td>\n",
       "      <td>1</td>\n",
       "      <td>0</td>\n",
       "      <td>0</td>\n",
       "      <td>0</td>\n",
       "      <td>0</td>\n",
       "    </tr>\n",
       "    <tr>\n",
       "      <th>326</th>\n",
       "      <td>350</td>\n",
       "      <td>350</td>\n",
       "      <td>0.000000</td>\n",
       "      <td>0.000000</td>\n",
       "      <td>0.558570</td>\n",
       "      <td>0.218163</td>\n",
       "      <td>0.428380</td>\n",
       "      <td>0.177547</td>\n",
       "      <td>0.212264</td>\n",
       "      <td>0.266966</td>\n",
       "      <td>...</td>\n",
       "      <td>0.297351</td>\n",
       "      <td>0.000000</td>\n",
       "      <td>0.000000</td>\n",
       "      <td>0</td>\n",
       "      <td>0</td>\n",
       "      <td>1</td>\n",
       "      <td>0</td>\n",
       "      <td>0</td>\n",
       "      <td>0</td>\n",
       "      <td>0</td>\n",
       "    </tr>\n",
       "    <tr>\n",
       "      <th>327</th>\n",
       "      <td>351</td>\n",
       "      <td>351</td>\n",
       "      <td>0.000000</td>\n",
       "      <td>0.000000</td>\n",
       "      <td>0.000000</td>\n",
       "      <td>0.558570</td>\n",
       "      <td>0.218163</td>\n",
       "      <td>0.428380</td>\n",
       "      <td>0.177547</td>\n",
       "      <td>0.212264</td>\n",
       "      <td>...</td>\n",
       "      <td>0.523222</td>\n",
       "      <td>0.297351</td>\n",
       "      <td>0.000000</td>\n",
       "      <td>0</td>\n",
       "      <td>0</td>\n",
       "      <td>1</td>\n",
       "      <td>0</td>\n",
       "      <td>0</td>\n",
       "      <td>0</td>\n",
       "      <td>0</td>\n",
       "    </tr>\n",
       "    <tr>\n",
       "      <th>328</th>\n",
       "      <td>352</td>\n",
       "      <td>352</td>\n",
       "      <td>0.262792</td>\n",
       "      <td>0.000000</td>\n",
       "      <td>0.000000</td>\n",
       "      <td>0.000000</td>\n",
       "      <td>0.558570</td>\n",
       "      <td>0.218163</td>\n",
       "      <td>0.428380</td>\n",
       "      <td>0.177547</td>\n",
       "      <td>...</td>\n",
       "      <td>0.294434</td>\n",
       "      <td>0.523222</td>\n",
       "      <td>0.297351</td>\n",
       "      <td>0</td>\n",
       "      <td>0</td>\n",
       "      <td>1</td>\n",
       "      <td>0</td>\n",
       "      <td>0</td>\n",
       "      <td>0</td>\n",
       "      <td>0</td>\n",
       "    </tr>\n",
       "    <tr>\n",
       "      <th>329</th>\n",
       "      <td>353</td>\n",
       "      <td>353</td>\n",
       "      <td>0.315643</td>\n",
       "      <td>0.262792</td>\n",
       "      <td>0.000000</td>\n",
       "      <td>0.000000</td>\n",
       "      <td>0.000000</td>\n",
       "      <td>0.558570</td>\n",
       "      <td>0.218163</td>\n",
       "      <td>0.428380</td>\n",
       "      <td>...</td>\n",
       "      <td>0.394900</td>\n",
       "      <td>0.294434</td>\n",
       "      <td>0.523222</td>\n",
       "      <td>0</td>\n",
       "      <td>0</td>\n",
       "      <td>1</td>\n",
       "      <td>0</td>\n",
       "      <td>0</td>\n",
       "      <td>0</td>\n",
       "      <td>0</td>\n",
       "    </tr>\n",
       "  </tbody>\n",
       "</table>\n",
       "<p>330 rows × 34 columns</p>\n",
       "</div>"
      ],
      "text/plain": [
       "     index  hour_index  mean_value  value_shift_1  value_shift_2  \\\n",
       "0       24          24    0.365277       0.295500       0.333460   \n",
       "1       25          25    0.391379       0.365277       0.295500   \n",
       "2       26          26    0.440046       0.391379       0.365277   \n",
       "3       27          27    0.362597       0.440046       0.391379   \n",
       "4       28          28    0.243996       0.362597       0.440046   \n",
       "..     ...         ...         ...            ...            ...   \n",
       "325    349         349    0.000000       0.558570       0.218163   \n",
       "326    350         350    0.000000       0.000000       0.558570   \n",
       "327    351         351    0.000000       0.000000       0.000000   \n",
       "328    352         352    0.262792       0.000000       0.000000   \n",
       "329    353         353    0.315643       0.262792       0.000000   \n",
       "\n",
       "     value_shift_3  value_shift_4  value_shift_5  value_shift_6  \\\n",
       "0         0.314829       0.402290       0.389791       0.330464   \n",
       "1         0.333460       0.314829       0.402290       0.389791   \n",
       "2         0.295500       0.333460       0.314829       0.402290   \n",
       "3         0.365277       0.295500       0.333460       0.314829   \n",
       "4         0.391379       0.365277       0.295500       0.333460   \n",
       "..             ...            ...            ...            ...   \n",
       "325       0.428380       0.177547       0.212264       0.266966   \n",
       "326       0.218163       0.428380       0.177547       0.212264   \n",
       "327       0.558570       0.218163       0.428380       0.177547   \n",
       "328       0.000000       0.558570       0.218163       0.428380   \n",
       "329       0.000000       0.000000       0.558570       0.218163   \n",
       "\n",
       "     value_shift_7  ...  value_shift_22  value_shift_23  value_shift_24  \\\n",
       "0         0.330314  ...        0.441498        0.404619        0.187787   \n",
       "1         0.330464  ...        0.724283        0.441498        0.404619   \n",
       "2         0.389791  ...        0.193599        0.724283        0.441498   \n",
       "3         0.402290  ...        0.154464        0.193599        0.724283   \n",
       "4         0.314829  ...        0.214764        0.154464        0.193599   \n",
       "..             ...  ...             ...             ...             ...   \n",
       "325       0.244087  ...        0.000000        0.000000        0.396077   \n",
       "326       0.266966  ...        0.297351        0.000000        0.000000   \n",
       "327       0.212264  ...        0.523222        0.297351        0.000000   \n",
       "328       0.177547  ...        0.294434        0.523222        0.297351   \n",
       "329       0.428380  ...        0.394900        0.294434        0.523222   \n",
       "\n",
       "     day_1  day_2  day_3  day_4  day_5  day_6  day_7  \n",
       "0        0      0      1      0      0      0      0  \n",
       "1        0      0      1      0      0      0      0  \n",
       "2        0      0      1      0      0      0      0  \n",
       "3        0      0      1      0      0      0      0  \n",
       "4        0      0      1      0      0      0      0  \n",
       "..     ...    ...    ...    ...    ...    ...    ...  \n",
       "325      0      0      1      0      0      0      0  \n",
       "326      0      0      1      0      0      0      0  \n",
       "327      0      0      1      0      0      0      0  \n",
       "328      0      0      1      0      0      0      0  \n",
       "329      0      0      1      0      0      0      0  \n",
       "\n",
       "[330 rows x 34 columns]"
      ]
     },
     "execution_count": 110,
     "metadata": {},
     "output_type": "execute_result"
    }
   ],
   "source": [
    "feat_df = pad_df.copy()\n",
    "for i in range(1, 25):\n",
    "    new_column_name = f'value_shift_{i}'\n",
    "    feat_df[new_column_name] = feat_df['mean_value'].shift(i)\n",
    "feat_df = feat_df.dropna().reset_index()\n",
    "feat_df = pd.get_dummies(feat_df, columns=['day'], dtype=int)\n",
    "feat_df"
   ]
  },
  {
   "cell_type": "code",
   "execution_count": 112,
   "id": "dba08cb8-17ea-4916-a11e-17db2760a82e",
   "metadata": {
    "tags": []
   },
   "outputs": [
    {
     "data": {
      "text/plain": [
       "array([[0.29549973, 0.33345953, 0.31482915, ..., 0.        , 0.        ,\n",
       "        0.        ],\n",
       "       [0.36527707, 0.29549973, 0.33345953, ..., 0.        , 0.        ,\n",
       "        0.        ],\n",
       "       [0.39137898, 0.36527707, 0.29549973, ..., 0.        , 0.        ,\n",
       "        0.        ],\n",
       "       ...,\n",
       "       [0.        , 0.        , 0.55857047, ..., 0.        , 0.        ,\n",
       "        0.        ],\n",
       "       [0.        , 0.        , 0.        , ..., 0.        , 0.        ,\n",
       "        0.        ],\n",
       "       [0.26279178, 0.        , 0.        , ..., 0.        , 0.        ,\n",
       "        0.        ]])"
      ]
     },
     "execution_count": 112,
     "metadata": {},
     "output_type": "execute_result"
    }
   ],
   "source": [
    "X"
   ]
  },
  {
   "cell_type": "code",
   "execution_count": 111,
   "id": "d734816b-f1ef-49a2-8e04-d3ad7f47930a",
   "metadata": {
    "tags": []
   },
   "outputs": [
    {
     "data": {
      "text/plain": [
       "(330, 31)"
      ]
     },
     "execution_count": 111,
     "metadata": {},
     "output_type": "execute_result"
    }
   ],
   "source": [
    "X = feat_df.iloc[:, 3:].values\n",
    "X.shape"
   ]
  },
  {
   "cell_type": "code",
   "execution_count": 113,
   "id": "9fd93ad2-f367-4e40-85e5-0a5ac4847977",
   "metadata": {
    "tags": []
   },
   "outputs": [
    {
     "data": {
      "text/plain": [
       "(330,)"
      ]
     },
     "execution_count": 113,
     "metadata": {},
     "output_type": "execute_result"
    }
   ],
   "source": [
    "y = feat_df['mean_value'].values\n",
    "y.shape"
   ]
  },
  {
   "cell_type": "markdown",
   "id": "e96b06fe-1bf4-49d5-9bb3-50c50f814376",
   "metadata": {},
   "source": [
    "# Start Training"
   ]
  },
  {
   "cell_type": "code",
   "execution_count": 126,
   "id": "77c38ca7-07fc-4042-84eb-d82b3ea283c0",
   "metadata": {
    "tags": []
   },
   "outputs": [
    {
     "name": "stdout",
     "output_type": "stream",
     "text": [
      "Training Data Percentage        : 5%\n",
      "Training Data Size              : 13\n",
      "Mean Absolute Error on Test Set : 0.1849 \n",
      "\n",
      "Training Data Percentage        : 10%\n",
      "Training Data Size              : 26\n",
      "Mean Absolute Error on Test Set : 0.2212 \n",
      "\n",
      "Training Data Percentage        : 20%\n",
      "Training Data Size              : 52\n",
      "Mean Absolute Error on Test Set : 0.1772 \n",
      "\n",
      "Training Data Percentage        : 50%\n",
      "Training Data Size              : 132\n",
      "Mean Absolute Error on Test Set : 0.1064 \n",
      "\n",
      "Training Data Percentage        : 100%\n",
      "Training Data Size              : 264\n",
      "Mean Absolute Error on Test Set : 0.0953 \n",
      "\n"
     ]
    }
   ],
   "source": [
    "import numpy as np\n",
    "from sklearn.model_selection import train_test_split\n",
    "from sklearn.linear_model import LinearRegression\n",
    "from sklearn.metrics import mean_absolute_error\n",
    "\n",
    "X_train, X_test, y_train, y_test = train_test_split(X, y, test_size=0.2, random_state=42)\n",
    "\n",
    "size_X_train = X_train.shape[0]\n",
    "for p in [5, 10, 20, 50, 100]:\n",
    "    X_train_sub = X_train[:p*size_X_train//100]\n",
    "    y_train_sub = y_train[:p*size_X_train//100]\n",
    "    model = LinearRegression(fit_intercept=True)  # fit_intercept=True == bias\n",
    "    model.fit(X_train_sub, y_train_sub)\n",
    "    y_pred = model.predict(X_test)\n",
    "    mae = mean_absolute_error(y_test, y_pred)\n",
    "    print(\"Training Data Percentage        : %d%%\"%p)\n",
    "    print(\"Training Data Size              :\", X_train_sub.shape[0])\n",
    "    print(\"Mean Absolute Error on Test Set : %.4f \\n\"%mae)\n",
    "\n",
    "    "
   ]
  },
  {
   "cell_type": "code",
   "execution_count": 144,
   "id": "c577d589-4626-4511-94e6-812bc15b136c",
   "metadata": {
    "tags": []
   },
   "outputs": [],
   "source": [
    "stat = []\n",
    "for p in range(10,100):\n",
    "    X_train_sub = X_train[:p*size_X_train//100]\n",
    "    y_train_sub = y_train[:p*size_X_train//100]\n",
    "    model = LinearRegression(fit_intercept=True)  # fit_intercept=True == bias\n",
    "    model.fit(X_train_sub, y_train_sub)\n",
    "    y_pred = model.predict(X_test)\n",
    "    mae = mean_absolute_error(y_test, y_pred)\n",
    "    stat.append([p, mae])\n",
    "stat = np.array(stat)"
   ]
  },
  {
   "cell_type": "code",
   "execution_count": 162,
   "id": "3d04846a-bd75-4647-b9da-6491a166e7f8",
   "metadata": {
    "tags": []
   },
   "outputs": [
    {
     "data": {
      "image/png": "[encoded data removed]",
      "text/plain": [
       "<Figure size 800x500 with 1 Axes>"
      ]
     },
     "metadata": {},
     "output_type": "display_data"
    }
   ],
   "source": [
    "plt.figure(figsize=(8, 5))\n",
    "sns.scatterplot(x=stat[:,0], y=stat[:,1], color='blue', label='Data Points')\n",
    "plt.title('MAE Plot')\n",
    "plt.xlabel('Trainset Pourcentage')\n",
    "plt.ylabel('MAE')\n",
    "plt.ylim(0, 1)  # 设置 y 轴的限制\n",
    "plt.legend()\n",
    "plt.grid(True)\n",
    "plt.show()"
   ]
  },
  {
   "cell_type": "code",
   "execution_count": 145,
   "id": "e337bb06-f9d6-4c7a-8399-84442b49238e",
   "metadata": {
    "tags": []
   },
   "outputs": [
    {
     "data": {
      "text/plain": [
       "(0.0, 1.0)"
      ]
     },
     "execution_count": 145,
     "metadata": {},
     "output_type": "execute_result"
    },
    {
     "data": {
      "image/png": "[encoded data removed]",
      "text/plain": [
       "<Figure size 640x480 with 1 Axes>"
      ]
     },
     "metadata": {},
     "output_type": "display_data"
    }
   ],
   "source": [
    "plt.scatter(stat[:,0], stat[:,1], c='blue', label='Data Points')\n",
    "plt.ylim(0,1)"
   ]
  },
  {
   "cell_type": "code",
   "execution_count": 149,
   "id": "9c3f3a08-29e6-4d85-83fb-7f139e0cfce4",
   "metadata": {
    "tags": []
   },
   "outputs": [
    {
     "data": {
      "text/plain": [
       "<matplotlib.collections.PathCollection at 0x1f3a5f2b8e0>"
      ]
     },
     "execution_count": 149,
     "metadata": {},
     "output_type": "execute_result"
    },
    {
     "data": {
      "image/png": "[encoded data removed]",
      "text/plain": [
       "<Figure size 640x480 with 1 Axes>"
      ]
     },
     "metadata": {},
     "output_type": "display_data"
    }
   ],
   "source": [
    "plt.scatter(stat[20:,0], stat[20:,1], c='blue', label='Data Points')"
   ]
  },
  {
   "cell_type": "code",
   "execution_count": 150,
   "id": "5bf953c2-d57b-40d0-b172-a7ac868fc00a",
   "metadata": {
    "tags": []
   },
   "outputs": [
    {
     "data": {
      "text/plain": [
       "<matplotlib.collections.PathCollection at 0x1f3abb64400>"
      ]
     },
     "execution_count": 150,
     "metadata": {},
     "output_type": "execute_result"
    },
    {
     "data": {
      "image/png": "[encoded data removed]",
      "text/plain": [
       "<Figure size 640x480 with 1 Axes>"
      ]
     },
     "metadata": {},
     "output_type": "display_data"
    }
   ],
   "source": [
    "plt.scatter(stat[80:,0], stat[80:,1], c='blue', label='Data Points')"
   ]
  }
 ],
 "metadata": {
  "kernelspec": {
   "display_name": "vgp-predict",
   "language": "python",
   "name": "lab_mlops"
  },
  "language_info": {
   "codemirror_mode": {
    "name": "ipython",
    "version": 3
   },
   "file_extension": ".py",
   "mimetype": "text/x-python",
   "name": "python",
   "nbconvert_exporter": "python",
   "pygments_lexer": "ipython3",
   "version": "3.8.17"
  }
 },
 "nbformat": 4,
 "nbformat_minor": 5
}
